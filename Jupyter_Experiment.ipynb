{
  "nbformat": 4,
  "nbformat_minor": 0,
  "metadata": {
    "colab": {
      "name": "Jupyter Experiment.ipynb",
      "provenance": [],
      "collapsed_sections": []
    },
    "kernelspec": {
      "name": "python3",
      "display_name": "Python 3"
    },
    "language_info": {
      "name": "python"
    }
  },
  "cells": [
    {
      "cell_type": "markdown",
      "source": [
        "#H1"
      ],
      "metadata": {
        "id": "_s6jswMaI7CJ"
      }
    },
    {
      "cell_type": "markdown",
      "source": [
        "##h2"
      ],
      "metadata": {
        "id": "c0vAb_v1I-Yc"
      }
    },
    {
      "cell_type": "markdown",
      "source": [
        "###h3"
      ],
      "metadata": {
        "id": "ZjRVzWL9JElA"
      }
    },
    {
      "cell_type": "markdown",
      "source": [
        "*suraj*\n",
        "**suraj**\n",
        "~suraj~"
      ],
      "metadata": {
        "id": "q6dvEVBUL9Gu"
      }
    },
    {
      "cell_type": "code",
      "source": [
        "%time\n",
        "print(\"Table of squares\")\n",
        "for i in range(31):\n",
        "  print(f'{i} times {i} = {i*i}')"
      ],
      "metadata": {
        "id": "YtWlTIWVMQyH",
        "colab": {
          "base_uri": "https://localhost:8080/"
        },
        "outputId": "dfd44a69-a582-4582-e309-81d96c2b960e"
      },
      "execution_count": 5,
      "outputs": [
        {
          "output_type": "stream",
          "name": "stdout",
          "text": [
            "CPU times: user 2 µs, sys: 0 ns, total: 2 µs\n",
            "Wall time: 4.77 µs\n",
            "Table of squares\n",
            "0 times 0 = 0\n",
            "1 times 1 = 1\n",
            "2 times 2 = 4\n",
            "3 times 3 = 9\n",
            "4 times 4 = 16\n",
            "5 times 5 = 25\n",
            "6 times 6 = 36\n",
            "7 times 7 = 49\n",
            "8 times 8 = 64\n",
            "9 times 9 = 81\n",
            "10 times 10 = 100\n",
            "11 times 11 = 121\n",
            "12 times 12 = 144\n",
            "13 times 13 = 169\n",
            "14 times 14 = 196\n",
            "15 times 15 = 225\n",
            "16 times 16 = 256\n",
            "17 times 17 = 289\n",
            "18 times 18 = 324\n",
            "19 times 19 = 361\n",
            "20 times 20 = 400\n",
            "21 times 21 = 441\n",
            "22 times 22 = 484\n",
            "23 times 23 = 529\n",
            "24 times 24 = 576\n",
            "25 times 25 = 625\n",
            "26 times 26 = 676\n",
            "27 times 27 = 729\n",
            "28 times 28 = 784\n",
            "29 times 29 = 841\n",
            "30 times 30 = 900\n"
          ]
        }
      ]
    },
    {
      "cell_type": "code",
      "source": [
        ""
      ],
      "metadata": {
        "id": "ut0keWGoG18A"
      },
      "execution_count": null,
      "outputs": []
    }
  ]
}